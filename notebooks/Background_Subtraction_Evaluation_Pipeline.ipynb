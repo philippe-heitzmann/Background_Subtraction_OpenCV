{
 "cells": [
  {
   "cell_type": "code",
   "execution_count": 1,
   "id": "adc38e90",
   "metadata": {},
   "outputs": [
    {
     "data": {
      "text/html": [
       "<style>.container { width:100% !important; }</style>"
      ],
      "text/plain": [
       "<IPython.core.display.HTML object>"
      ]
     },
     "metadata": {},
     "output_type": "display_data"
    }
   ],
   "source": [
    "# data manipulation\n",
    "import numpy as np\n",
    "import pandas as pd\n",
    "\n",
    "#file processing / requests\n",
    "from pathlib import Path\n",
    "from tqdm import tqdm\n",
    "import json\n",
    "import urllib\n",
    "\n",
    "#computer vision\n",
    "import cv2\n",
    "import torch\n",
    "import torchvision\n",
    "\n",
    "import PIL\n",
    "\n",
    "#ML \n",
    "from sklearn.model_selection import train_test_split\n",
    "\n",
    "\n",
    "#display\n",
    "from IPython.display import display\n",
    "from pylab import rcParams\n",
    "\n",
    "#visualization\n",
    "import seaborn as sns\n",
    "import matplotlib.pyplot as plt\n",
    "from matplotlib import rc\n",
    "import PIL.Image as Image\n",
    "\n",
    "from IPython.core.display import display, HTML\n",
    "display(HTML(\"<style>.container { width:100% !important; }</style>\"))\n",
    "pd.set_option('display.max_columns', None)"
   ]
  },
  {
   "cell_type": "markdown",
   "id": "59127d3c",
   "metadata": {},
   "source": [
    "### Notebook Purpose: Implement Background Subtraction using OpenCV C++ and Python methods"
   ]
  },
  {
   "cell_type": "code",
   "execution_count": 41,
   "id": "936a0d20",
   "metadata": {
    "collapsed": true
   },
   "outputs": [
    {
     "name": "stdout",
     "output_type": "stream",
     "text": [
      "Collecting hdbscan\n",
      "  Downloading hdbscan-0.8.27.tar.gz (6.4 MB)\n",
      "  Installing build dependencies: started\n",
      "  Installing build dependencies: finished with status 'done'\n",
      "  Getting requirements to build wheel: started\n",
      "  Getting requirements to build wheel: finished with status 'done'\n",
      "    Preparing wheel metadata: started\n",
      "    Preparing wheel metadata: finished with status 'done'\n",
      "Requirement already satisfied: numpy>=1.16 in c:\\users\\phil0\\anaconda3\\envs\\py36opencv\\lib\\site-packages (from hdbscan) (1.19.2)\n",
      "Collecting cython>=0.27\n",
      "  Using cached Cython-0.29.27-py2.py3-none-any.whl (983 kB)\n",
      "Requirement already satisfied: scipy>=1.0 in c:\\users\\phil0\\anaconda3\\envs\\py36opencv\\lib\\site-packages (from hdbscan) (1.5.2)\n",
      "Requirement already satisfied: six in c:\\users\\phil0\\anaconda3\\envs\\py36opencv\\lib\\site-packages (from hdbscan) (1.16.0)\n",
      "Requirement already satisfied: scikit-learn>=0.20 in c:\\users\\phil0\\anaconda3\\envs\\py36opencv\\lib\\site-packages (from hdbscan) (0.24.2)\n",
      "Requirement already satisfied: joblib>=1.0 in c:\\users\\phil0\\anaconda3\\envs\\py36opencv\\lib\\site-packages (from hdbscan) (1.0.1)\n",
      "Requirement already satisfied: threadpoolctl>=2.0.0 in c:\\users\\phil0\\anaconda3\\envs\\py36opencv\\lib\\site-packages (from scikit-learn>=0.20->hdbscan) (2.2.0)\n",
      "Building wheels for collected packages: hdbscan\n",
      "  Building wheel for hdbscan (PEP 517): started\n",
      "  Building wheel for hdbscan (PEP 517): finished with status 'done'\n",
      "  Created wheel for hdbscan: filename=hdbscan-0.8.27-cp36-cp36m-win_amd64.whl size=634049 sha256=80442fa90ee8e469a2577a7f896aa984e8293c922c748f65a954690cd312913e\n",
      "  Stored in directory: c:\\users\\phil0\\appdata\\local\\pip\\cache\\wheels\\70\\52\\fe\\83ef5a0e879c48df9968d931d41046226e4cb19a166f0223d2\n",
      "Successfully built hdbscan\n",
      "Installing collected packages: cython, hdbscan\n",
      "Successfully installed cython-0.29.27 hdbscan-0.8.27\n"
     ]
    }
   ],
   "source": [
    "!pip install hdbscan"
   ]
  },
  {
   "cell_type": "code",
   "execution_count": 64,
   "id": "be0e3e41",
   "metadata": {
    "collapsed": true
   },
   "outputs": [
    {
     "ename": "NameError",
     "evalue": "name 'cv' is not defined",
     "output_type": "error",
     "traceback": [
      "\u001b[1;31m---------------------------------------------------------------------------\u001b[0m",
      "\u001b[1;31mNameError\u001b[0m                                 Traceback (most recent call last)",
      "\u001b[1;32m<ipython-input-64-e67cda5cbd3d>\u001b[0m in \u001b[0;36m<module>\u001b[1;34m\u001b[0m\n\u001b[0;32m      1\u001b[0m ALGORITHMS_TO_EVALUATE = [\n\u001b[1;32m----> 2\u001b[1;33m     \u001b[1;33m(\u001b[0m\u001b[0mcv\u001b[0m\u001b[1;33m.\u001b[0m\u001b[0mbgsegm\u001b[0m\u001b[1;33m.\u001b[0m\u001b[0mcreateBackgroundSubtractorMOG\u001b[0m\u001b[1;33m,\u001b[0m \u001b[1;34m'MOG'\u001b[0m\u001b[1;33m,\u001b[0m \u001b[1;33m{\u001b[0m\u001b[1;33m}\u001b[0m\u001b[1;33m)\u001b[0m\u001b[1;33m,\u001b[0m\u001b[1;33m\u001b[0m\u001b[1;33m\u001b[0m\u001b[0m\n\u001b[0m\u001b[0;32m      3\u001b[0m     \u001b[1;33m(\u001b[0m\u001b[0mcv\u001b[0m\u001b[1;33m.\u001b[0m\u001b[0mbgsegm\u001b[0m\u001b[1;33m.\u001b[0m\u001b[0mcreateBackgroundSubtractorGMG\u001b[0m\u001b[1;33m,\u001b[0m \u001b[1;34m'GMG'\u001b[0m\u001b[1;33m,\u001b[0m \u001b[1;33m{\u001b[0m\u001b[1;33m}\u001b[0m\u001b[1;33m)\u001b[0m\u001b[1;33m,\u001b[0m\u001b[1;33m\u001b[0m\u001b[1;33m\u001b[0m\u001b[0m\n\u001b[0;32m      4\u001b[0m     \u001b[1;33m(\u001b[0m\u001b[0mcv\u001b[0m\u001b[1;33m.\u001b[0m\u001b[0mbgsegm\u001b[0m\u001b[1;33m.\u001b[0m\u001b[0mcreateBackgroundSubtractorCNT\u001b[0m\u001b[1;33m,\u001b[0m \u001b[1;34m'CNT'\u001b[0m\u001b[1;33m,\u001b[0m \u001b[1;33m{\u001b[0m\u001b[1;33m}\u001b[0m\u001b[1;33m)\u001b[0m\u001b[1;33m,\u001b[0m\u001b[1;33m\u001b[0m\u001b[1;33m\u001b[0m\u001b[0m\n\u001b[0;32m      5\u001b[0m     \u001b[1;33m(\u001b[0m\u001b[0mcv\u001b[0m\u001b[1;33m.\u001b[0m\u001b[0mbgsegm\u001b[0m\u001b[1;33m.\u001b[0m\u001b[0mcreateBackgroundSubtractorLSBP\u001b[0m\u001b[1;33m,\u001b[0m \u001b[1;34m'LSBP-vanilla'\u001b[0m\u001b[1;33m,\u001b[0m \u001b[1;33m{\u001b[0m\u001b[1;34m'nSamples'\u001b[0m\u001b[1;33m:\u001b[0m \u001b[1;36m20\u001b[0m\u001b[1;33m,\u001b[0m \u001b[1;34m'LSBPRadius'\u001b[0m\u001b[1;33m:\u001b[0m \u001b[1;36m4\u001b[0m\u001b[1;33m,\u001b[0m \u001b[1;34m'Tlower'\u001b[0m\u001b[1;33m:\u001b[0m \u001b[1;36m2.0\u001b[0m\u001b[1;33m,\u001b[0m \u001b[1;34m'Tupper'\u001b[0m\u001b[1;33m:\u001b[0m \u001b[1;36m200.0\u001b[0m\u001b[1;33m,\u001b[0m \u001b[1;34m'Tinc'\u001b[0m\u001b[1;33m:\u001b[0m \u001b[1;36m1.0\u001b[0m\u001b[1;33m,\u001b[0m \u001b[1;34m'Tdec'\u001b[0m\u001b[1;33m:\u001b[0m \u001b[1;36m0.05\u001b[0m\u001b[1;33m,\u001b[0m \u001b[1;34m'Rscale'\u001b[0m\u001b[1;33m:\u001b[0m \u001b[1;36m5.0\u001b[0m\u001b[1;33m,\u001b[0m \u001b[1;34m'Rincdec'\u001b[0m\u001b[1;33m:\u001b[0m \u001b[1;36m0.05\u001b[0m\u001b[1;33m,\u001b[0m \u001b[1;34m'LSBPthreshold'\u001b[0m\u001b[1;33m:\u001b[0m \u001b[1;36m8\u001b[0m\u001b[1;33m}\u001b[0m\u001b[1;33m)\u001b[0m\u001b[1;33m,\u001b[0m\u001b[1;33m\u001b[0m\u001b[1;33m\u001b[0m\u001b[0m\n",
      "\u001b[1;31mNameError\u001b[0m: name 'cv' is not defined"
     ]
    }
   ],
   "source": [
    "ALGORITHMS_TO_EVALUATE = [\n",
    "    (cv.bgsegm.createBackgroundSubtractorMOG, 'MOG', {}),\n",
    "    (cv.bgsegm.createBackgroundSubtractorGMG, 'GMG', {}),\n",
    "    (cv.bgsegm.createBackgroundSubtractorCNT, 'CNT', {}),\n",
    "    (cv.bgsegm.createBackgroundSubtractorLSBP, 'LSBP-vanilla', {'nSamples': 20, 'LSBPRadius': 4, 'Tlower': 2.0, 'Tupper': 200.0, 'Tinc': 1.0, 'Tdec': 0.05, 'Rscale': 5.0, 'Rincdec': 0.05, 'LSBPthreshold': 8}),\n",
    "    (cv.bgsegm.createBackgroundSubtractorLSBP, 'LSBP-speed', {'nSamples': 10, 'LSBPRadius': 16, 'Tlower': 2.0, 'Tupper': 32.0, 'Tinc': 1.0, 'Tdec': 0.05, 'Rscale': 10.0, 'Rincdec': 0.005, 'LSBPthreshold': 8}),\n",
    "    (cv.bgsegm.createBackgroundSubtractorLSBP, 'LSBP-quality', {'nSamples': 20, 'LSBPRadius': 16, 'Tlower': 2.0, 'Tupper': 32.0, 'Tinc': 1.0, 'Tdec': 0.05, 'Rscale': 10.0, 'Rincdec': 0.005, 'LSBPthreshold': 8}),\n",
    "    (cv.bgsegm.createBackgroundSubtractorLSBP, 'LSBP-camera-motion-compensation', {'mc': 1}),\n",
    "    (cv.bgsegm.createBackgroundSubtractorGSOC, 'GSOC', {}),\n",
    "    (cv.bgsegm.createBackgroundSubtractorGSOC, 'GSOC-camera-motion-compensation', {'mc': 1})\n",
    "]\n",
    "\n",
    "algos_names = [algo[1] for algo in ALGORITHMS_TO_EVALUATE]\n",
    "algos_names"
   ]
  },
  {
   "cell_type": "code",
   "execution_count": 71,
   "id": "f8de17e8",
   "metadata": {},
   "outputs": [
    {
     "name": "stdout",
     "output_type": "stream",
     "text": [
      "!python background_subtraction_evaluation.py --algorithm MOG --dataset_path /Users/phil0/DS/Video_Background_Subtraction_OpenCV/cdnet14_baseline_dataset/baseline/highway\n",
      "!python background_subtraction_evaluation.py --algorithm GMG --dataset_path /Users/phil0/DS/Video_Background_Subtraction_OpenCV/cdnet14_baseline_dataset/baseline/highway\n",
      "!python background_subtraction_evaluation.py --algorithm CNT --dataset_path /Users/phil0/DS/Video_Background_Subtraction_OpenCV/cdnet14_baseline_dataset/baseline/highway\n",
      "!python background_subtraction_evaluation.py --algorithm LSBP-vanilla --dataset_path /Users/phil0/DS/Video_Background_Subtraction_OpenCV/cdnet14_baseline_dataset/baseline/highway\n",
      "!python background_subtraction_evaluation.py --algorithm LSBP-speed --dataset_path /Users/phil0/DS/Video_Background_Subtraction_OpenCV/cdnet14_baseline_dataset/baseline/highway\n",
      "!python background_subtraction_evaluation.py --algorithm LSBP-quality --dataset_path /Users/phil0/DS/Video_Background_Subtraction_OpenCV/cdnet14_baseline_dataset/baseline/highway\n",
      "!python background_subtraction_evaluation.py --algorithm LSBP-camera-motion-compensation --dataset_path /Users/phil0/DS/Video_Background_Subtraction_OpenCV/cdnet14_baseline_dataset/baseline/highway\n",
      "!python background_subtraction_evaluation.py --algorithm GSOC --dataset_path /Users/phil0/DS/Video_Background_Subtraction_OpenCV/cdnet14_baseline_dataset/baseline/highway\n",
      "!python background_subtraction_evaluation.py --algorithm GSOC-camera-motion-compensation --dataset_path /Users/phil0/DS/Video_Background_Subtraction_OpenCV/cdnet14_baseline_dataset/baseline/highway\n"
     ]
    }
   ],
   "source": [
    "import typing\n",
    "from typing import List\n",
    "\n",
    "algo_names = ['MOG','GMG','CNT','LSBP-vanilla','LSBP-speed','LSBP-quality','LSBP-camera-motion-compensation','GSOC','GSOC-camera-motion-compensation']\n",
    "\n",
    "def generate_background_subtraction_commands(algos: List):\n",
    "    for algo in algos:\n",
    "        print(f'!python background_subtraction_evaluation.py --algorithm {algo} --dataset_path /Users/phil0/DS/Video_Background_Subtraction_OpenCV/cdnet14_baseline_dataset/baseline/highway')\n",
    "generate_background_subtraction_commands(algo_names)    "
   ]
  },
  {
   "cell_type": "markdown",
   "id": "9a599645",
   "metadata": {},
   "source": [
    "### Baseline"
   ]
  },
  {
   "cell_type": "code",
   "execution_count": 87,
   "id": "fa3467fe",
   "metadata": {},
   "outputs": [
    {
     "name": "stdout",
     "output_type": "stream",
     "text": [
      "0.0 sec to complete <function get_files_in_dir at 0x0000028A2207F950>\n",
      "0.0 sec to complete <function get_files_in_dir at 0x0000028A2207F950>\n",
      "=== baseline:highway ===\n",
      "Algorithm name: MOG\n",
      "bgs <bgsegm_BackgroundSubtractorMOG 0000028A22C6EF10>\n",
      "Average accuracy: 0.964\n",
      "Average precision: 0.869\n",
      "Average recall: 0.354\n",
      "Average F1: 0.492\n",
      "Average sec. per step: 0.0017\n",
      "\n",
      "0.0 sec to complete <function get_files_in_dir at 0x0000028A2207F950>\n",
      "0.0 sec to complete <function get_files_in_dir at 0x0000028A2207F950>\n",
      "=== baseline:highway ===\n",
      "Algorithm name: MOG\n",
      "bgs <bgsegm_BackgroundSubtractorMOG 0000028A22C6EF30>\n",
      "Average accuracy: 0.964\n",
      "Average precision: 0.869\n",
      "Average recall: 0.354\n",
      "Average F1: 0.492\n",
      "Average sec. per step: 0.0017\n",
      "\n",
      "=== SUMMARY for baseline (Precision, Recall, F1, Accuracy) ===\n",
      "  MOG: 0.869 0.354 0.492 0.964\n"
     ]
    }
   ],
   "source": [
    "!python background_subtraction_evaluation.py --algorithm MOG --dataset_path /Users/phil0/DS/Video_Background_Subtraction_OpenCV/cdnet14_baseline_dataset/baseline/highway"
   ]
  },
  {
   "cell_type": "code",
   "execution_count": 89,
   "id": "bd9a3878",
   "metadata": {},
   "outputs": [
    {
     "name": "stdout",
     "output_type": "stream",
     "text": [
      "0.0 sec to complete <function get_files_in_dir at 0x0000025FE7B81950>\n",
      "0.0 sec to complete <function get_files_in_dir at 0x0000025FE7B81950>\n",
      "=== baseline:highway ===\n",
      "Algorithm name: GMG\n",
      "bgs <bgsegm_BackgroundSubtractorGMG 0000025FE87AAAF0>\n",
      "Average accuracy: 0.994\n",
      "Average precision: 0.915\n",
      "Average recall: 0.995\n",
      "Average F1: 0.952\n",
      "Average sec. per step: 0.0058\n",
      "\n",
      "0.0 sec to complete <function get_files_in_dir at 0x0000025FE7B81950>\n",
      "0.0 sec to complete <function get_files_in_dir at 0x0000025FE7B81950>\n",
      "=== baseline:highway ===\n",
      "Algorithm name: GMG\n",
      "bgs <bgsegm_BackgroundSubtractorGMG 0000025FE87AAB10>\n",
      "Average accuracy: 0.994\n",
      "Average precision: 0.915\n",
      "Average recall: 0.995\n",
      "Average F1: 0.952\n",
      "Average sec. per step: 0.0056\n",
      "\n",
      "=== SUMMARY for baseline (Precision, Recall, F1, Accuracy) ===\n",
      "  GMG: 0.915 0.995 0.952 0.994\n"
     ]
    }
   ],
   "source": [
    "!python background_subtraction_evaluation.py --algorithm GMG --dataset_path /Users/phil0/DS/Video_Background_Subtraction_OpenCV/cdnet14_baseline_dataset/baseline/highway"
   ]
  },
  {
   "cell_type": "code",
   "execution_count": 90,
   "id": "6a4728bb",
   "metadata": {},
   "outputs": [
    {
     "name": "stdout",
     "output_type": "stream",
     "text": [
      "0.0 sec to complete <function get_files_in_dir at 0x000001D069860950>\n",
      "0.0 sec to complete <function get_files_in_dir at 0x000001D069860950>\n",
      "=== baseline:highway ===\n",
      "Algorithm name: LSBP-vanilla\n",
      "bgs <bgsegm_BackgroundSubtractorLSBP 000001D06A4A0970>\n",
      "Average accuracy: 0.764\n",
      "Average precision: 0.120\n",
      "Average recall: 0.593\n",
      "Average F1: 0.185\n",
      "Average sec. per step: 0.0054\n",
      "\n",
      "0.0 sec to complete <function get_files_in_dir at 0x000001D069860950>\n",
      "0.0 sec to complete <function get_files_in_dir at 0x000001D069860950>\n",
      "=== baseline:highway ===\n",
      "Algorithm name: LSBP-vanilla\n",
      "bgs <bgsegm_BackgroundSubtractorLSBP 000001D06A4A0990>\n",
      "Average accuracy: 0.764\n",
      "Average precision: 0.120\n",
      "Average recall: 0.593\n",
      "Average F1: 0.185\n",
      "Average sec. per step: 0.0055\n",
      "\n",
      "=== SUMMARY for baseline (Precision, Recall, F1, Accuracy) ===\n",
      "LSBP-vanilla: 0.120 0.593 0.185 0.764\n"
     ]
    }
   ],
   "source": [
    "!python background_subtraction_evaluation.py --algorithm LSBP-vanilla --dataset_path /Users/phil0/DS/Video_Background_Subtraction_OpenCV/cdnet14_baseline_dataset/baseline/highway"
   ]
  },
  {
   "cell_type": "code",
   "execution_count": 91,
   "id": "50487bf5",
   "metadata": {},
   "outputs": [
    {
     "name": "stdout",
     "output_type": "stream",
     "text": [
      "0.0 sec to complete <function get_files_in_dir at 0x0000023529BAF950>\n",
      "0.0 sec to complete <function get_files_in_dir at 0x0000023529BAF950>\n",
      "=== baseline:highway ===\n",
      "Algorithm name: LSBP-speed\n",
      "bgs <bgsegm_BackgroundSubtractorLSBP 000002352A83B150>\n",
      "Average accuracy: 0.849\n",
      "Average precision: 0.253\n",
      "Average recall: 0.967\n",
      "Average F1: 0.385\n",
      "Average sec. per step: 0.0055\n",
      "\n",
      "0.0 sec to complete <function get_files_in_dir at 0x0000023529BAF950>\n",
      "0.0 sec to complete <function get_files_in_dir at 0x0000023529BAF950>\n",
      "=== baseline:highway ===\n",
      "Algorithm name: LSBP-speed\n",
      "bgs <bgsegm_BackgroundSubtractorLSBP 000002352A83B170>\n",
      "Average accuracy: 0.849\n",
      "Average precision: 0.253\n",
      "Average recall: 0.965\n",
      "Average F1: 0.384\n",
      "Average sec. per step: 0.0056\n",
      "\n",
      "=== SUMMARY for baseline (Precision, Recall, F1, Accuracy) ===\n",
      "LSBP-speed: 0.253 0.966 0.384 0.849\n"
     ]
    }
   ],
   "source": [
    "!python background_subtraction_evaluation.py --algorithm LSBP-speed --dataset_path /Users/phil0/DS/Video_Background_Subtraction_OpenCV/cdnet14_baseline_dataset/baseline/highway"
   ]
  },
  {
   "cell_type": "code",
   "execution_count": 92,
   "id": "91d55b7e",
   "metadata": {},
   "outputs": [
    {
     "name": "stdout",
     "output_type": "stream",
     "text": [
      "0.0 sec to complete <function get_files_in_dir at 0x0000019E8F32F950>\n",
      "0.0 sec to complete <function get_files_in_dir at 0x0000019E8F32F950>\n",
      "=== baseline:highway ===\n",
      "Algorithm name: LSBP-quality\n",
      "bgs <bgsegm_BackgroundSubtractorLSBP 0000019E8FF47DF0>\n",
      "Average accuracy: 0.875\n",
      "Average precision: 0.277\n",
      "Average recall: 0.859\n",
      "Average F1: 0.399\n",
      "Average sec. per step: 0.0057\n",
      "\n",
      "0.0 sec to complete <function get_files_in_dir at 0x0000019E8F32F950>\n",
      "0.0 sec to complete <function get_files_in_dir at 0x0000019E8F32F950>\n",
      "=== baseline:highway ===\n",
      "Algorithm name: LSBP-quality\n",
      "bgs <bgsegm_BackgroundSubtractorLSBP 0000019E8FF47E10>\n",
      "Average accuracy: 0.874\n",
      "Average precision: 0.276\n",
      "Average recall: 0.855\n",
      "Average F1: 0.398\n",
      "Average sec. per step: 0.0058\n",
      "\n",
      "=== SUMMARY for baseline (Precision, Recall, F1, Accuracy) ===\n",
      "LSBP-quality: 0.277 0.857 0.399 0.875\n"
     ]
    }
   ],
   "source": [
    "!python background_subtraction_evaluation.py --algorithm LSBP-quality --dataset_path /Users/phil0/DS/Video_Background_Subtraction_OpenCV/cdnet14_baseline_dataset/baseline/highway"
   ]
  },
  {
   "cell_type": "code",
   "execution_count": 93,
   "id": "5270819d",
   "metadata": {},
   "outputs": [
    {
     "name": "stdout",
     "output_type": "stream",
     "text": [
      "0.0 sec to complete <function get_files_in_dir at 0x000001BE961DF950>\n",
      "0.0 sec to complete <function get_files_in_dir at 0x000001BE961DF950>\n",
      "=== baseline:highway ===\n",
      "Algorithm name: LSBP-camera-motion-compensation\n",
      "bgs <bgsegm_BackgroundSubtractorLSBP 000001BE96DFAD10>\n",
      "Average accuracy: 0.875\n",
      "Average precision: 0.276\n",
      "Average recall: 0.856\n",
      "Average F1: 0.398\n",
      "Average sec. per step: 0.0135\n",
      "\n",
      "0.0 sec to complete <function get_files_in_dir at 0x000001BE961DF950>\n",
      "0.0 sec to complete <function get_files_in_dir at 0x000001BE961DF950>\n",
      "=== baseline:highway ===\n",
      "Algorithm name: LSBP-camera-motion-compensation\n",
      "bgs <bgsegm_BackgroundSubtractorLSBP 000001BE96DFAD30>\n",
      "Average accuracy: 0.874\n",
      "Average precision: 0.276\n",
      "Average recall: 0.855\n",
      "Average F1: 0.398\n",
      "Average sec. per step: 0.0135\n",
      "\n",
      "=== SUMMARY for baseline (Precision, Recall, F1, Accuracy) ===\n",
      "LSBP-camera-motion-compensation: 0.276 0.855 0.398 0.874\n"
     ]
    }
   ],
   "source": [
    "!python background_subtraction_evaluation.py --algorithm LSBP-camera-motion-compensation --dataset_path /Users/phil0/DS/Video_Background_Subtraction_OpenCV/cdnet14_baseline_dataset/baseline/highway"
   ]
  },
  {
   "cell_type": "code",
   "execution_count": 94,
   "id": "dc60fd5d",
   "metadata": {},
   "outputs": [
    {
     "name": "stdout",
     "output_type": "stream",
     "text": [
      "0.0 sec to complete <function get_files_in_dir at 0x000001FB4464F950>\n",
      "0.0 sec to complete <function get_files_in_dir at 0x000001FB4464F950>\n",
      "=== baseline:highway ===\n",
      "Algorithm name: GSOC\n",
      "bgs <bgsegm_BackgroundSubtractorGSOC 000001FB452B5790>\n",
      "Average accuracy: 0.998\n",
      "Average precision: 0.998\n",
      "Average recall: 0.964\n",
      "Average F1: 0.980\n",
      "Average sec. per step: 0.0040\n",
      "\n",
      "0.0 sec to complete <function get_files_in_dir at 0x000001FB4464F950>\n",
      "0.0 sec to complete <function get_files_in_dir at 0x000001FB4464F950>\n",
      "=== baseline:highway ===\n",
      "Algorithm name: GSOC\n",
      "bgs <bgsegm_BackgroundSubtractorGSOC 000001FB452B57B0>\n",
      "Average accuracy: 0.998\n",
      "Average precision: 0.998\n",
      "Average recall: 0.964\n",
      "Average F1: 0.980\n",
      "Average sec. per step: 0.0041\n",
      "\n",
      "=== SUMMARY for baseline (Precision, Recall, F1, Accuracy) ===\n",
      " GSOC: 0.998 0.964 0.980 0.998\n"
     ]
    }
   ],
   "source": [
    "!python background_subtraction_evaluation.py --algorithm GSOC --dataset_path /Users/phil0/DS/Video_Background_Subtraction_OpenCV/cdnet14_baseline_dataset/baseline/highway"
   ]
  },
  {
   "cell_type": "code",
   "execution_count": 95,
   "id": "ecce30ce",
   "metadata": {},
   "outputs": [
    {
     "name": "stdout",
     "output_type": "stream",
     "text": [
      "0.0 sec to complete <function get_files_in_dir at 0x0000024B630DF950>\n",
      "0.0 sec to complete <function get_files_in_dir at 0x0000024B630DF950>\n",
      "=== baseline:highway ===\n",
      "Algorithm name: GSOC-camera-motion-compensation\n",
      "bgs <bgsegm_BackgroundSubtractorGSOC 0000024B63CF7DF0>\n",
      "Average accuracy: 0.998\n",
      "Average precision: 0.997\n",
      "Average recall: 0.965\n",
      "Average F1: 0.980\n",
      "Average sec. per step: 0.0129\n",
      "\n",
      "0.0 sec to complete <function get_files_in_dir at 0x0000024B630DF950>\n",
      "0.0 sec to complete <function get_files_in_dir at 0x0000024B630DF950>\n",
      "=== baseline:highway ===\n",
      "Algorithm name: GSOC-camera-motion-compensation\n",
      "bgs <bgsegm_BackgroundSubtractorGSOC 0000024B63CF7E10>\n",
      "Average accuracy: 0.998\n",
      "Average precision: 0.998\n",
      "Average recall: 0.964\n",
      "Average F1: 0.980\n",
      "Average sec. per step: 0.0132\n",
      "\n",
      "=== SUMMARY for baseline (Precision, Recall, F1, Accuracy) ===\n",
      "GSOC-camera-motion-compensation: 0.998 0.965 0.980 0.998\n"
     ]
    }
   ],
   "source": [
    "!python background_subtraction_evaluation.py --algorithm GSOC-camera-motion-compensation --dataset_path /Users/phil0/DS/Video_Background_Subtraction_OpenCV/cdnet14_baseline_dataset/baseline/highway"
   ]
  },
  {
   "cell_type": "markdown",
   "id": "316ed82b",
   "metadata": {},
   "source": [
    "### Shadows"
   ]
  },
  {
   "cell_type": "code",
   "execution_count": 98,
   "id": "79d16dc4",
   "metadata": {},
   "outputs": [
    {
     "name": "stdout",
     "output_type": "stream",
     "text": [
      "0.0 sec to complete <function get_files_in_dir at 0x000002208B59F950>\n",
      "0.0 sec to complete <function get_files_in_dir at 0x000002208B59F950>\n",
      "=== shadow:cubicle ===\n",
      "Algorithm name: MOG\n",
      "bgs <bgsegm_BackgroundSubtractorMOG 000002208C1B8DB0>\n",
      "Average accuracy: 0.990\n",
      "Average precision: 0.662\n",
      "Average recall: 0.465\n",
      "Average F1: 0.414\n",
      "Average sec. per step: 0.0019\n",
      "\n",
      "0.0 sec to complete <function get_files_in_dir at 0x000002208B59F950>\n",
      "0.0 sec to complete <function get_files_in_dir at 0x000002208B59F950>\n",
      "=== shadow:cubicle ===\n",
      "Algorithm name: MOG\n",
      "bgs <bgsegm_BackgroundSubtractorMOG 000002208C1B8DB0>\n",
      "Average accuracy: 0.990\n",
      "Average precision: 0.662\n",
      "Average recall: 0.465\n",
      "Average F1: 0.414\n",
      "Average sec. per step: 0.0019\n",
      "\n",
      "=== SUMMARY for shadow (Precision, Recall, F1, Accuracy) ===\n",
      "  MOG: 0.662 0.465 0.414 0.990\n"
     ]
    }
   ],
   "source": [
    "!python background_subtraction_evaluation.py --algorithm MOG --dataset_path /Users/phil0/DS/Video_Background_Subtraction_OpenCV/cdnet_14_dataset/dataset/shadow/cubicle "
   ]
  },
  {
   "cell_type": "code",
   "execution_count": 99,
   "id": "4b7f2bdb",
   "metadata": {},
   "outputs": [
    {
     "name": "stdout",
     "output_type": "stream",
     "text": [
      "0.0 sec to complete <function get_files_in_dir at 0x00000278DDD5F950>\n",
      "0.0 sec to complete <function get_files_in_dir at 0x00000278DDD5F950>\n",
      "=== shadow:cubicle ===\n",
      "Algorithm name: GSOC-camera-motion-compensation\n",
      "bgs <bgsegm_BackgroundSubtractorGSOC 00000278DE968EF0>\n",
      "Average accuracy: 0.989\n",
      "Average precision: 0.499\n",
      "Average recall: 0.814\n",
      "Average F1: 0.496\n",
      "Average sec. per step: 0.0151\n",
      "\n",
      "0.0 sec to complete <function get_files_in_dir at 0x00000278DDD5F950>\n",
      "0.0 sec to complete <function get_files_in_dir at 0x00000278DDD5F950>\n",
      "=== shadow:cubicle ===\n",
      "Algorithm name: GSOC-camera-motion-compensation\n",
      "bgs <bgsegm_BackgroundSubtractorGSOC 00000278DD0F6A90>\n",
      "Average accuracy: 0.989\n",
      "Average precision: 0.494\n",
      "Average recall: 0.815\n",
      "Average F1: 0.492\n",
      "Average sec. per step: 0.0147\n",
      "\n",
      "=== SUMMARY for shadow (Precision, Recall, F1, Accuracy) ===\n",
      "GSOC-camera-motion-compensation: 0.497 0.814 0.494 0.989\n"
     ]
    }
   ],
   "source": [
    "!python background_subtraction_evaluation.py --algorithm GSOC-camera-motion-compensation --dataset_path /Users/phil0/DS/Video_Background_Subtraction_OpenCV/cdnet_14_dataset/dataset/shadow/cubicle"
   ]
  },
  {
   "cell_type": "code",
   "execution_count": 100,
   "id": "24508936",
   "metadata": {},
   "outputs": [
    {
     "name": "stdout",
     "output_type": "stream",
     "text": [
      "0.0 sec to complete <function get_files_in_dir at 0x000001819651F950>\n",
      "0.0 sec to complete <function get_files_in_dir at 0x000001819651F950>\n",
      "=== shadow:cubicle ===\n",
      "Algorithm name: GSOC\n",
      "bgs <bgsegm_BackgroundSubtractorGSOC 00000181971619D0>\n",
      "Average accuracy: 0.991\n",
      "Average precision: 0.520\n",
      "Average recall: 0.814\n",
      "Average F1: 0.513\n",
      "Average sec. per step: 0.0047\n",
      "\n",
      "0.0 sec to complete <function get_files_in_dir at 0x000001819651F950>\n",
      "0.0 sec to complete <function get_files_in_dir at 0x000001819651F950>\n",
      "=== shadow:cubicle ===\n",
      "Algorithm name: GSOC\n",
      "bgs <bgsegm_BackgroundSubtractorGSOC 00000181971619D0>\n",
      "Average accuracy: 0.991\n",
      "Average precision: 0.523\n",
      "Average recall: 0.815\n",
      "Average F1: 0.514\n",
      "Average sec. per step: 0.0045\n",
      "\n",
      "=== SUMMARY for shadow (Precision, Recall, F1, Accuracy) ===\n",
      " GSOC: 0.522 0.814 0.513 0.991\n"
     ]
    }
   ],
   "source": [
    "!python background_subtraction_evaluation.py --algorithm GSOC --dataset_path /Users/phil0/DS/Video_Background_Subtraction_OpenCV/cdnet_14_dataset/dataset/shadow/cubicle"
   ]
  },
  {
   "cell_type": "code",
   "execution_count": 101,
   "id": "16d835b5",
   "metadata": {},
   "outputs": [
    {
     "name": "stdout",
     "output_type": "stream",
     "text": [
      "0.0 sec to complete <function get_files_in_dir at 0x000002CCB5F0F950>\n",
      "0.0 sec to complete <function get_files_in_dir at 0x000002CCB5F0F950>\n",
      "=== shadow:cubicle ===\n",
      "Algorithm name: LSBP-camera-motion-compensation\n",
      "bgs <bgsegm_BackgroundSubtractorLSBP 000002CCB6BAA0F0>\n",
      "Average accuracy: 0.949\n",
      "Average precision: 0.172\n",
      "Average recall: 0.963\n",
      "Average F1: 0.236\n",
      "Average sec. per step: 0.0156\n",
      "\n",
      "0.0 sec to complete <function get_files_in_dir at 0x000002CCB5F0F950>\n",
      "0.0 sec to complete <function get_files_in_dir at 0x000002CCB5F0F950>\n",
      "=== shadow:cubicle ===\n",
      "Algorithm name: LSBP-camera-motion-compensation\n",
      "bgs <bgsegm_BackgroundSubtractorLSBP 000002CCB6BAA0F0>\n",
      "Average accuracy: 0.950\n",
      "Average precision: 0.173\n",
      "Average recall: 0.965\n",
      "Average F1: 0.237\n",
      "Average sec. per step: 0.0149\n",
      "\n",
      "=== SUMMARY for shadow (Precision, Recall, F1, Accuracy) ===\n",
      "LSBP-camera-motion-compensation: 0.172 0.964 0.237 0.949\n"
     ]
    }
   ],
   "source": [
    "!python background_subtraction_evaluation.py --algorithm LSBP-camera-motion-compensation --dataset_path /Users/phil0/DS/Video_Background_Subtraction_OpenCV/cdnet_14_dataset/dataset/shadow/cubicle"
   ]
  },
  {
   "cell_type": "code",
   "execution_count": 102,
   "id": "57108e34",
   "metadata": {},
   "outputs": [
    {
     "name": "stdout",
     "output_type": "stream",
     "text": [
      "0.0 sec to complete <function get_files_in_dir at 0x000002408B59F950>\n",
      "0.0 sec to complete <function get_files_in_dir at 0x000002408B59F950>\n",
      "=== shadow:cubicle ===\n",
      "Algorithm name: LSBP-quality\n",
      "bgs <bgsegm_BackgroundSubtractorLSBP 000002408C220310>\n",
      "Average accuracy: 0.959\n",
      "Average precision: 0.192\n",
      "Average recall: 0.965\n",
      "Average F1: 0.254\n",
      "Average sec. per step: 0.0063\n",
      "\n",
      "0.0 sec to complete <function get_files_in_dir at 0x000002408B59F950>\n",
      "0.0 sec to complete <function get_files_in_dir at 0x000002408B59F950>\n",
      "=== shadow:cubicle ===\n",
      "Algorithm name: LSBP-quality\n",
      "bgs <bgsegm_BackgroundSubtractorLSBP 000002408C220310>\n",
      "Average accuracy: 0.959\n",
      "Average precision: 0.190\n",
      "Average recall: 0.965\n",
      "Average F1: 0.252\n",
      "Average sec. per step: 0.0064\n",
      "\n",
      "=== SUMMARY for shadow (Precision, Recall, F1, Accuracy) ===\n",
      "LSBP-quality: 0.191 0.965 0.253 0.959\n"
     ]
    }
   ],
   "source": [
    "!python background_subtraction_evaluation.py --algorithm LSBP-quality --dataset_path /Users/phil0/DS/Video_Background_Subtraction_OpenCV/cdnet_14_dataset/dataset/shadow/cubicle"
   ]
  },
  {
   "cell_type": "code",
   "execution_count": 103,
   "id": "97c5a55e",
   "metadata": {},
   "outputs": [
    {
     "name": "stdout",
     "output_type": "stream",
     "text": [
      "0.0 sec to complete <function get_files_in_dir at 0x000001CE0B59F950>\n",
      "0.0 sec to complete <function get_files_in_dir at 0x000001CE0B59F950>\n",
      "=== shadow:cubicle ===\n",
      "Algorithm name: LSBP-speed\n",
      "bgs <bgsegm_BackgroundSubtractorLSBP 000001CE0C1B8D90>\n",
      "Average accuracy: 0.954\n",
      "Average precision: 0.175\n",
      "Average recall: 0.975\n",
      "Average F1: 0.236\n",
      "Average sec. per step: 0.0061\n",
      "\n",
      "0.0 sec to complete <function get_files_in_dir at 0x000001CE0B59F950>\n",
      "0.0 sec to complete <function get_files_in_dir at 0x000001CE0B59F950>\n",
      "=== shadow:cubicle ===\n",
      "Algorithm name: LSBP-speed\n",
      "bgs <bgsegm_BackgroundSubtractorLSBP 000001CE0C1B8D90>\n",
      "Average accuracy: 0.953\n",
      "Average precision: 0.174\n",
      "Average recall: 0.975\n",
      "Average F1: 0.236\n",
      "Average sec. per step: 0.0059\n",
      "\n",
      "=== SUMMARY for shadow (Precision, Recall, F1, Accuracy) ===\n",
      "LSBP-speed: 0.174 0.975 0.236 0.954\n"
     ]
    }
   ],
   "source": [
    "!python background_subtraction_evaluation.py --algorithm LSBP-speed --dataset_path /Users/phil0/DS/Video_Background_Subtraction_OpenCV/cdnet_14_dataset/dataset/shadow/cubicle"
   ]
  },
  {
   "cell_type": "code",
   "execution_count": 104,
   "id": "92b3b136",
   "metadata": {},
   "outputs": [
    {
     "name": "stdout",
     "output_type": "stream",
     "text": [
      "0.0 sec to complete <function get_files_in_dir at 0x00000213EB45F950>\n",
      "0.0 sec to complete <function get_files_in_dir at 0x00000213EB45F950>\n",
      "=== shadow:cubicle ===\n",
      "Algorithm name: LSBP-vanilla\n",
      "bgs <bgsegm_BackgroundSubtractorLSBP 00000213EC08AB10>\n",
      "Average accuracy: 0.931\n",
      "Average precision: 0.168\n",
      "Average recall: 0.898\n",
      "Average F1: 0.222\n",
      "Average sec. per step: 0.0061\n",
      "\n",
      "0.0 sec to complete <function get_files_in_dir at 0x00000213EB45F950>\n",
      "0.0 sec to complete <function get_files_in_dir at 0x00000213EB45F950>\n",
      "=== shadow:cubicle ===\n",
      "Algorithm name: LSBP-vanilla\n",
      "bgs <bgsegm_BackgroundSubtractorLSBP 00000213EC08AB10>\n",
      "Average accuracy: 0.931\n",
      "Average precision: 0.167\n",
      "Average recall: 0.897\n",
      "Average F1: 0.221\n",
      "Average sec. per step: 0.0062\n",
      "\n",
      "=== SUMMARY for shadow (Precision, Recall, F1, Accuracy) ===\n",
      "LSBP-vanilla: 0.167 0.897 0.221 0.931\n"
     ]
    }
   ],
   "source": [
    "!python background_subtraction_evaluation.py --algorithm LSBP-vanilla --dataset_path /Users/phil0/DS/Video_Background_Subtraction_OpenCV/cdnet_14_dataset/dataset/shadow/cubicle"
   ]
  },
  {
   "cell_type": "code",
   "execution_count": 105,
   "id": "8b9eec6f",
   "metadata": {},
   "outputs": [
    {
     "name": "stdout",
     "output_type": "stream",
     "text": [
      "0.0 sec to complete <function get_files_in_dir at 0x000002776D12F950>\n",
      "0.0 sec to complete <function get_files_in_dir at 0x000002776D12F950>\n",
      "=== shadow:cubicle ===\n",
      "Algorithm name: GMG\n",
      "bgs <bgsegm_BackgroundSubtractorGMG 000002776DDAC3D0>\n",
      "Average accuracy: 0.984\n",
      "Average precision: 0.302\n",
      "Average recall: 0.541\n",
      "Average F1: 0.280\n",
      "Average sec. per step: 0.0049\n",
      "\n",
      "0.0 sec to complete <function get_files_in_dir at 0x000002776D12F950>\n",
      "0.0 sec to complete <function get_files_in_dir at 0x000002776D12F950>\n",
      "=== shadow:cubicle ===\n",
      "Algorithm name: GMG\n",
      "bgs <bgsegm_BackgroundSubtractorGMG 000002776DDAC3D0>\n",
      "Average accuracy: 0.984\n",
      "Average precision: 0.302\n",
      "Average recall: 0.541\n",
      "Average F1: 0.280\n",
      "Average sec. per step: 0.0050\n",
      "\n",
      "=== SUMMARY for shadow (Precision, Recall, F1, Accuracy) ===\n",
      "  GMG: 0.302 0.541 0.280 0.984\n"
     ]
    }
   ],
   "source": [
    "!python background_subtraction_evaluation.py --algorithm GMG --dataset_path /Users/phil0/DS/Video_Background_Subtraction_OpenCV/cdnet_14_dataset/dataset/shadow/cubicle"
   ]
  },
  {
   "cell_type": "code",
   "execution_count": 117,
   "id": "d80f6cbf",
   "metadata": {},
   "outputs": [
    {
     "name": "stdout",
     "output_type": "stream",
     "text": [
      "'C:/Users/phil0/DS/Video_Background_Subtraction_OpenCV/cdnet_14_dataset/dataset/shadow/cubicle/input'\n"
     ]
    }
   ],
   "source": [
    "import sys\n",
    "sys.path.append('/Users/Administrator/DS/DeepRoad/Object_Detection')\n",
    "sys.path.append('/Users/phil0/DS/DeepRoad/Object_Detection')\n",
    "import utils2\n",
    "from importlib import reload\n",
    "reload(utils2)\n",
    "from utils2 import *\n",
    "\n",
    "path1 = r'C:\\Users\\phil0\\DS\\Video_Background_Subtraction_OpenCV\\cdnet_14_dataset\\dataset\\shadow\\cubicle\\input'\n",
    "path_bs2fs(path1) "
   ]
  },
  {
   "cell_type": "code",
   "execution_count": 114,
   "id": "bfa92808",
   "metadata": {},
   "outputs": [
    {
     "name": "stdout",
     "output_type": "stream",
     "text": [
      "0.0 sec to complete <function get_files_in_dir at 0x0000023A34044730>\n",
      "5.1 sec to complete <function create_video_from_images at 0x0000023A35DBB9D8>\n"
     ]
    }
   ],
   "source": [
    "### Creating videos from our images\n",
    "\n",
    "create_video_from_images('jpg', image_dir = 'C:/Users/phil0/DS/Video_Background_Subtraction_OpenCV/cdnet_14_dataset/dataset/shadow/cubicle/input', output_video_name = 'shadows_cubicle.mp4')"
   ]
  },
  {
   "cell_type": "code",
   "execution_count": 119,
   "id": "7b0122be",
   "metadata": {},
   "outputs": [
    {
     "name": "stdout",
     "output_type": "stream",
     "text": [
      "'C:/Users/phil0/DS/Video_Background_Subtraction_OpenCV/cdnet14_baseline_dataset/baseline/highway/input'\n"
     ]
    }
   ],
   "source": [
    "path_highway = r'C:\\Users\\phil0\\DS\\Video_Background_Subtraction_OpenCV\\cdnet14_baseline_dataset\\baseline\\highway\\input'\n",
    "path_highway_updated = path_bs2fs(path_highway) "
   ]
  },
  {
   "cell_type": "code",
   "execution_count": 121,
   "id": "8eaa6299",
   "metadata": {},
   "outputs": [
    {
     "name": "stdout",
     "output_type": "stream",
     "text": [
      "0.0 sec to complete <function get_files_in_dir at 0x0000023A35E1CE18>\n",
      "1.4 sec to complete <function create_video_from_images at 0x0000023A35DE6378>\n"
     ]
    }
   ],
   "source": [
    "create_video_from_images('jpg', image_dir = r'C:/Users/phil0/DS/Video_Background_Subtraction_OpenCV/cdnet14_baseline_dataset/baseline/highway/input', output_video_name = 'baseline_highway.mp4', fps = 30)"
   ]
  }
 ],
 "metadata": {
  "kernelspec": {
   "display_name": "Python 3",
   "language": "python",
   "name": "python3"
  },
  "language_info": {
   "codemirror_mode": {
    "name": "ipython",
    "version": 3
   },
   "file_extension": ".py",
   "mimetype": "text/x-python",
   "name": "python",
   "nbconvert_exporter": "python",
   "pygments_lexer": "ipython3",
   "version": "3.6.13"
  }
 },
 "nbformat": 4,
 "nbformat_minor": 5
}
